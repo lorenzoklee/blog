{
 "cells": [
  {
   "cell_type": "code",
   "execution_count": 1,
   "id": "72e9423b",
   "metadata": {},
   "outputs": [],
   "source": [
    "import datetime\n",
    "import pandas as pd\n",
    "import numpy as np\n",
    "import matplotlib.pyplot as plt"
   ]
  },
  {
   "cell_type": "code",
   "execution_count": 2,
   "id": "30b3c3ab",
   "metadata": {},
   "outputs": [
    {
     "data": {
      "text/html": [
       "<div>\n",
       "<style scoped>\n",
       "    .dataframe tbody tr th:only-of-type {\n",
       "        vertical-align: middle;\n",
       "    }\n",
       "\n",
       "    .dataframe tbody tr th {\n",
       "        vertical-align: top;\n",
       "    }\n",
       "\n",
       "    .dataframe thead th {\n",
       "        text-align: right;\n",
       "    }\n",
       "</style>\n",
       "<table border=\"1\" class=\"dataframe\">\n",
       "  <thead>\n",
       "    <tr style=\"text-align: right;\">\n",
       "      <th></th>\n",
       "      <th>Date</th>\n",
       "      <th>Open</th>\n",
       "      <th>High</th>\n",
       "      <th>Low</th>\n",
       "      <th>Close</th>\n",
       "      <th>Adj Close</th>\n",
       "      <th>Volume</th>\n",
       "    </tr>\n",
       "  </thead>\n",
       "  <tbody>\n",
       "    <tr>\n",
       "      <th>0</th>\n",
       "      <td>1950-01-03</td>\n",
       "      <td>16.66</td>\n",
       "      <td>16.66</td>\n",
       "      <td>16.66</td>\n",
       "      <td>16.66</td>\n",
       "      <td>16.66</td>\n",
       "      <td>1260000</td>\n",
       "    </tr>\n",
       "    <tr>\n",
       "      <th>1</th>\n",
       "      <td>1950-01-04</td>\n",
       "      <td>16.85</td>\n",
       "      <td>16.85</td>\n",
       "      <td>16.85</td>\n",
       "      <td>16.85</td>\n",
       "      <td>16.85</td>\n",
       "      <td>1890000</td>\n",
       "    </tr>\n",
       "    <tr>\n",
       "      <th>2</th>\n",
       "      <td>1950-01-05</td>\n",
       "      <td>16.93</td>\n",
       "      <td>16.93</td>\n",
       "      <td>16.93</td>\n",
       "      <td>16.93</td>\n",
       "      <td>16.93</td>\n",
       "      <td>2550000</td>\n",
       "    </tr>\n",
       "    <tr>\n",
       "      <th>3</th>\n",
       "      <td>1950-01-06</td>\n",
       "      <td>16.98</td>\n",
       "      <td>16.98</td>\n",
       "      <td>16.98</td>\n",
       "      <td>16.98</td>\n",
       "      <td>16.98</td>\n",
       "      <td>2010000</td>\n",
       "    </tr>\n",
       "    <tr>\n",
       "      <th>4</th>\n",
       "      <td>1950-01-09</td>\n",
       "      <td>17.08</td>\n",
       "      <td>17.08</td>\n",
       "      <td>17.08</td>\n",
       "      <td>17.08</td>\n",
       "      <td>17.08</td>\n",
       "      <td>2520000</td>\n",
       "    </tr>\n",
       "  </tbody>\n",
       "</table>\n",
       "</div>"
      ],
      "text/plain": [
       "         Date   Open   High    Low  Close  Adj Close   Volume\n",
       "0  1950-01-03  16.66  16.66  16.66  16.66      16.66  1260000\n",
       "1  1950-01-04  16.85  16.85  16.85  16.85      16.85  1890000\n",
       "2  1950-01-05  16.93  16.93  16.93  16.93      16.93  2550000\n",
       "3  1950-01-06  16.98  16.98  16.98  16.98      16.98  2010000\n",
       "4  1950-01-09  17.08  17.08  17.08  17.08      17.08  2520000"
      ]
     },
     "execution_count": 2,
     "metadata": {},
     "output_type": "execute_result"
    }
   ],
   "source": [
    "data = pd.read_csv('GSPC.csv')\n",
    "data.head()"
   ]
  },
  {
   "cell_type": "code",
   "execution_count": 8,
   "id": "e63e78e1",
   "metadata": {},
   "outputs": [],
   "source": [
    "data['Date'] =  pd.to_datetime(data['Date'], format='%Y-%m-%d')"
   ]
  },
  {
   "cell_type": "code",
   "execution_count": 9,
   "id": "96f7cf38",
   "metadata": {},
   "outputs": [
    {
     "data": {
      "text/plain": [
       "0       1950-01-03\n",
       "1       1950-01-04\n",
       "2       1950-01-05\n",
       "3       1950-01-06\n",
       "4       1950-01-09\n",
       "           ...    \n",
       "17213   2018-05-31\n",
       "17214   2018-06-01\n",
       "17215   2018-06-04\n",
       "17216   2018-06-05\n",
       "17217   2018-06-06\n",
       "Name: Date, Length: 17218, dtype: datetime64[ns]"
      ]
     },
     "execution_count": 9,
     "metadata": {},
     "output_type": "execute_result"
    }
   ],
   "source": [
    "data['Date']"
   ]
  },
  {
   "cell_type": "code",
   "execution_count": 10,
   "id": "0f5fa71c",
   "metadata": {},
   "outputs": [
    {
     "data": {
      "image/png": "[encoded data removed]",
      "text/plain": [
       "<Figure size 432x288 with 1 Axes>"
      ]
     },
     "metadata": {
      "needs_background": "light"
     },
     "output_type": "display_data"
    }
   ],
   "source": [
    "x = data['Date']\n",
    "y = data['Adj Close']\n",
    "\n",
    "plt.plot(x,y)\n",
    "plt.show()"
   ]
  },
  {
   "cell_type": "code",
   "execution_count": 11,
   "id": "e90ee433",
   "metadata": {},
   "outputs": [],
   "source": [
    "start_date = '1963-01-03'\n",
    "end_date = '1993-01-04'"
   ]
  },
  {
   "cell_type": "code",
   "execution_count": 13,
   "id": "3cdefb01",
   "metadata": {},
   "outputs": [
    {
     "data": {
      "text/html": [
       "<div>\n",
       "<style scoped>\n",
       "    .dataframe tbody tr th:only-of-type {\n",
       "        vertical-align: middle;\n",
       "    }\n",
       "\n",
       "    .dataframe tbody tr th {\n",
       "        vertical-align: top;\n",
       "    }\n",
       "\n",
       "    .dataframe thead th {\n",
       "        text-align: right;\n",
       "    }\n",
       "</style>\n",
       "<table border=\"1\" class=\"dataframe\">\n",
       "  <thead>\n",
       "    <tr style=\"text-align: right;\">\n",
       "      <th></th>\n",
       "      <th>Date</th>\n",
       "      <th>Open</th>\n",
       "      <th>High</th>\n",
       "      <th>Low</th>\n",
       "      <th>Close</th>\n",
       "      <th>Adj Close</th>\n",
       "      <th>Volume</th>\n",
       "    </tr>\n",
       "  </thead>\n",
       "  <tbody>\n",
       "    <tr>\n",
       "      <th>3267</th>\n",
       "      <td>1963-01-04</td>\n",
       "      <td>63.720001</td>\n",
       "      <td>64.449997</td>\n",
       "      <td>63.570000</td>\n",
       "      <td>64.129997</td>\n",
       "      <td>64.129997</td>\n",
       "      <td>5400000</td>\n",
       "    </tr>\n",
       "    <tr>\n",
       "      <th>3268</th>\n",
       "      <td>1963-01-07</td>\n",
       "      <td>64.129997</td>\n",
       "      <td>64.589996</td>\n",
       "      <td>63.669998</td>\n",
       "      <td>64.120003</td>\n",
       "      <td>64.120003</td>\n",
       "      <td>4440000</td>\n",
       "    </tr>\n",
       "    <tr>\n",
       "      <th>3269</th>\n",
       "      <td>1963-01-08</td>\n",
       "      <td>64.120003</td>\n",
       "      <td>64.980003</td>\n",
       "      <td>64.000000</td>\n",
       "      <td>64.739998</td>\n",
       "      <td>64.739998</td>\n",
       "      <td>5410000</td>\n",
       "    </tr>\n",
       "    <tr>\n",
       "      <th>3270</th>\n",
       "      <td>1963-01-09</td>\n",
       "      <td>64.739998</td>\n",
       "      <td>65.220001</td>\n",
       "      <td>64.320000</td>\n",
       "      <td>64.589996</td>\n",
       "      <td>64.589996</td>\n",
       "      <td>5110000</td>\n",
       "    </tr>\n",
       "    <tr>\n",
       "      <th>3271</th>\n",
       "      <td>1963-01-10</td>\n",
       "      <td>64.589996</td>\n",
       "      <td>65.160004</td>\n",
       "      <td>64.330002</td>\n",
       "      <td>64.709999</td>\n",
       "      <td>64.709999</td>\n",
       "      <td>4520000</td>\n",
       "    </tr>\n",
       "    <tr>\n",
       "      <th>...</th>\n",
       "      <td>...</td>\n",
       "      <td>...</td>\n",
       "      <td>...</td>\n",
       "      <td>...</td>\n",
       "      <td>...</td>\n",
       "      <td>...</td>\n",
       "      <td>...</td>\n",
       "    </tr>\n",
       "    <tr>\n",
       "      <th>10810</th>\n",
       "      <td>1992-12-28</td>\n",
       "      <td>439.769989</td>\n",
       "      <td>439.769989</td>\n",
       "      <td>437.260010</td>\n",
       "      <td>439.149994</td>\n",
       "      <td>439.149994</td>\n",
       "      <td>143970000</td>\n",
       "    </tr>\n",
       "    <tr>\n",
       "      <th>10811</th>\n",
       "      <td>1992-12-29</td>\n",
       "      <td>439.149994</td>\n",
       "      <td>442.649994</td>\n",
       "      <td>437.600006</td>\n",
       "      <td>437.980011</td>\n",
       "      <td>437.980011</td>\n",
       "      <td>213660000</td>\n",
       "    </tr>\n",
       "    <tr>\n",
       "      <th>10812</th>\n",
       "      <td>1992-12-30</td>\n",
       "      <td>437.980011</td>\n",
       "      <td>439.369995</td>\n",
       "      <td>437.119995</td>\n",
       "      <td>438.820007</td>\n",
       "      <td>438.820007</td>\n",
       "      <td>183930000</td>\n",
       "    </tr>\n",
       "    <tr>\n",
       "      <th>10813</th>\n",
       "      <td>1992-12-31</td>\n",
       "      <td>438.820007</td>\n",
       "      <td>439.589996</td>\n",
       "      <td>435.709991</td>\n",
       "      <td>435.709991</td>\n",
       "      <td>435.709991</td>\n",
       "      <td>165910000</td>\n",
       "    </tr>\n",
       "    <tr>\n",
       "      <th>10814</th>\n",
       "      <td>1993-01-04</td>\n",
       "      <td>435.700012</td>\n",
       "      <td>437.320007</td>\n",
       "      <td>434.480011</td>\n",
       "      <td>435.380005</td>\n",
       "      <td>435.380005</td>\n",
       "      <td>201210000</td>\n",
       "    </tr>\n",
       "  </tbody>\n",
       "</table>\n",
       "<p>7548 rows × 7 columns</p>\n",
       "</div>"
      ],
      "text/plain": [
       "            Date        Open        High         Low       Close   Adj Close  \\\n",
       "3267  1963-01-04   63.720001   64.449997   63.570000   64.129997   64.129997   \n",
       "3268  1963-01-07   64.129997   64.589996   63.669998   64.120003   64.120003   \n",
       "3269  1963-01-08   64.120003   64.980003   64.000000   64.739998   64.739998   \n",
       "3270  1963-01-09   64.739998   65.220001   64.320000   64.589996   64.589996   \n",
       "3271  1963-01-10   64.589996   65.160004   64.330002   64.709999   64.709999   \n",
       "...          ...         ...         ...         ...         ...         ...   \n",
       "10810 1992-12-28  439.769989  439.769989  437.260010  439.149994  439.149994   \n",
       "10811 1992-12-29  439.149994  442.649994  437.600006  437.980011  437.980011   \n",
       "10812 1992-12-30  437.980011  439.369995  437.119995  438.820007  438.820007   \n",
       "10813 1992-12-31  438.820007  439.589996  435.709991  435.709991  435.709991   \n",
       "10814 1993-01-04  435.700012  437.320007  434.480011  435.380005  435.380005   \n",
       "\n",
       "          Volume  \n",
       "3267     5400000  \n",
       "3268     4440000  \n",
       "3269     5410000  \n",
       "3270     5110000  \n",
       "3271     4520000  \n",
       "...          ...  \n",
       "10810  143970000  \n",
       "10811  213660000  \n",
       "10812  183930000  \n",
       "10813  165910000  \n",
       "10814  201210000  \n",
       "\n",
       "[7548 rows x 7 columns]"
      ]
     },
     "execution_count": 13,
     "metadata": {},
     "output_type": "execute_result"
    }
   ],
   "source": [
    "mask = (data['Date'] > start_date) & (data['Date'] <= end_date)\n",
    "born1950 = data.loc[mask]\n",
    "born1950"
   ]
  },
  {
   "cell_type": "code",
   "execution_count": 14,
   "id": "23b17043",
   "metadata": {},
   "outputs": [
    {
     "data": {
      "image/png": "[encoded data removed]",
      "text/plain": [
       "<Figure size 432x288 with 1 Axes>"
      ]
     },
     "metadata": {
      "needs_background": "light"
     },
     "output_type": "display_data"
    }
   ],
   "source": [
    "x1 = born1950['Date']\n",
    "y1 = born1950['Adj Close']\n",
    "\n",
    "plt.plot(x1,y1)\n",
    "plt.show()"
   ]
  },
  {
   "cell_type": "code",
   "execution_count": 15,
   "id": "01e98862",
   "metadata": {},
   "outputs": [],
   "source": [
    "start_date2 = '1983-01-03'\n",
    "end_date2 = '2013-01-04'"
   ]
  },
  {
   "cell_type": "code",
   "execution_count": 16,
   "id": "3b5be7ec",
   "metadata": {},
   "outputs": [
    {
     "data": {
      "text/html": [
       "<div>\n",
       "<style scoped>\n",
       "    .dataframe tbody tr th:only-of-type {\n",
       "        vertical-align: middle;\n",
       "    }\n",
       "\n",
       "    .dataframe tbody tr th {\n",
       "        vertical-align: top;\n",
       "    }\n",
       "\n",
       "    .dataframe thead th {\n",
       "        text-align: right;\n",
       "    }\n",
       "</style>\n",
       "<table border=\"1\" class=\"dataframe\">\n",
       "  <thead>\n",
       "    <tr style=\"text-align: right;\">\n",
       "      <th></th>\n",
       "      <th>Date</th>\n",
       "      <th>Open</th>\n",
       "      <th>High</th>\n",
       "      <th>Low</th>\n",
       "      <th>Close</th>\n",
       "      <th>Adj Close</th>\n",
       "      <th>Volume</th>\n",
       "    </tr>\n",
       "  </thead>\n",
       "  <tbody>\n",
       "    <tr>\n",
       "      <th>8286</th>\n",
       "      <td>1983-01-04</td>\n",
       "      <td>138.330002</td>\n",
       "      <td>141.360001</td>\n",
       "      <td>138.080002</td>\n",
       "      <td>141.360001</td>\n",
       "      <td>141.360001</td>\n",
       "      <td>75530000</td>\n",
       "    </tr>\n",
       "    <tr>\n",
       "      <th>8287</th>\n",
       "      <td>1983-01-05</td>\n",
       "      <td>141.350006</td>\n",
       "      <td>142.600006</td>\n",
       "      <td>141.149994</td>\n",
       "      <td>141.960007</td>\n",
       "      <td>141.960007</td>\n",
       "      <td>95390000</td>\n",
       "    </tr>\n",
       "    <tr>\n",
       "      <th>8288</th>\n",
       "      <td>1983-01-06</td>\n",
       "      <td>142.009995</td>\n",
       "      <td>145.770004</td>\n",
       "      <td>142.009995</td>\n",
       "      <td>145.270004</td>\n",
       "      <td>145.270004</td>\n",
       "      <td>129410000</td>\n",
       "    </tr>\n",
       "    <tr>\n",
       "      <th>8289</th>\n",
       "      <td>1983-01-07</td>\n",
       "      <td>145.270004</td>\n",
       "      <td>146.460007</td>\n",
       "      <td>145.149994</td>\n",
       "      <td>145.179993</td>\n",
       "      <td>145.179993</td>\n",
       "      <td>127290000</td>\n",
       "    </tr>\n",
       "    <tr>\n",
       "      <th>8290</th>\n",
       "      <td>1983-01-10</td>\n",
       "      <td>145.190002</td>\n",
       "      <td>147.250000</td>\n",
       "      <td>144.580002</td>\n",
       "      <td>146.779999</td>\n",
       "      <td>146.779999</td>\n",
       "      <td>101890000</td>\n",
       "    </tr>\n",
       "    <tr>\n",
       "      <th>...</th>\n",
       "      <td>...</td>\n",
       "      <td>...</td>\n",
       "      <td>...</td>\n",
       "      <td>...</td>\n",
       "      <td>...</td>\n",
       "      <td>...</td>\n",
       "      <td>...</td>\n",
       "    </tr>\n",
       "    <tr>\n",
       "      <th>15849</th>\n",
       "      <td>2012-12-28</td>\n",
       "      <td>1418.099976</td>\n",
       "      <td>1418.099976</td>\n",
       "      <td>1401.579956</td>\n",
       "      <td>1402.430054</td>\n",
       "      <td>1402.430054</td>\n",
       "      <td>2426680000</td>\n",
       "    </tr>\n",
       "    <tr>\n",
       "      <th>15850</th>\n",
       "      <td>2012-12-31</td>\n",
       "      <td>1402.430054</td>\n",
       "      <td>1426.739990</td>\n",
       "      <td>1398.109985</td>\n",
       "      <td>1426.189941</td>\n",
       "      <td>1426.189941</td>\n",
       "      <td>3204330000</td>\n",
       "    </tr>\n",
       "    <tr>\n",
       "      <th>15851</th>\n",
       "      <td>2013-01-02</td>\n",
       "      <td>1426.189941</td>\n",
       "      <td>1462.430054</td>\n",
       "      <td>1426.189941</td>\n",
       "      <td>1462.420044</td>\n",
       "      <td>1462.420044</td>\n",
       "      <td>4202600000</td>\n",
       "    </tr>\n",
       "    <tr>\n",
       "      <th>15852</th>\n",
       "      <td>2013-01-03</td>\n",
       "      <td>1462.420044</td>\n",
       "      <td>1465.469971</td>\n",
       "      <td>1455.530029</td>\n",
       "      <td>1459.369995</td>\n",
       "      <td>1459.369995</td>\n",
       "      <td>3829730000</td>\n",
       "    </tr>\n",
       "    <tr>\n",
       "      <th>15853</th>\n",
       "      <td>2013-01-04</td>\n",
       "      <td>1459.369995</td>\n",
       "      <td>1467.939941</td>\n",
       "      <td>1458.989990</td>\n",
       "      <td>1466.469971</td>\n",
       "      <td>1466.469971</td>\n",
       "      <td>3424290000</td>\n",
       "    </tr>\n",
       "  </tbody>\n",
       "</table>\n",
       "<p>7568 rows × 7 columns</p>\n",
       "</div>"
      ],
      "text/plain": [
       "            Date         Open         High          Low        Close  \\\n",
       "8286  1983-01-04   138.330002   141.360001   138.080002   141.360001   \n",
       "8287  1983-01-05   141.350006   142.600006   141.149994   141.960007   \n",
       "8288  1983-01-06   142.009995   145.770004   142.009995   145.270004   \n",
       "8289  1983-01-07   145.270004   146.460007   145.149994   145.179993   \n",
       "8290  1983-01-10   145.190002   147.250000   144.580002   146.779999   \n",
       "...          ...          ...          ...          ...          ...   \n",
       "15849 2012-12-28  1418.099976  1418.099976  1401.579956  1402.430054   \n",
       "15850 2012-12-31  1402.430054  1426.739990  1398.109985  1426.189941   \n",
       "15851 2013-01-02  1426.189941  1462.430054  1426.189941  1462.420044   \n",
       "15852 2013-01-03  1462.420044  1465.469971  1455.530029  1459.369995   \n",
       "15853 2013-01-04  1459.369995  1467.939941  1458.989990  1466.469971   \n",
       "\n",
       "         Adj Close      Volume  \n",
       "8286    141.360001    75530000  \n",
       "8287    141.960007    95390000  \n",
       "8288    145.270004   129410000  \n",
       "8289    145.179993   127290000  \n",
       "8290    146.779999   101890000  \n",
       "...            ...         ...  \n",
       "15849  1402.430054  2426680000  \n",
       "15850  1426.189941  3204330000  \n",
       "15851  1462.420044  4202600000  \n",
       "15852  1459.369995  3829730000  \n",
       "15853  1466.469971  3424290000  \n",
       "\n",
       "[7568 rows x 7 columns]"
      ]
     },
     "execution_count": 16,
     "metadata": {},
     "output_type": "execute_result"
    }
   ],
   "source": [
    "mask = (data['Date'] > start_date2) & (data['Date'] <= end_date2)\n",
    "born1970 = data.loc[mask]\n",
    "born1970"
   ]
  },
  {
   "cell_type": "code",
   "execution_count": 17,
   "id": "1b7c7170",
   "metadata": {},
   "outputs": [
    {
     "data": {
      "image/png": "[encoded data removed]",
      "text/plain": [
       "<Figure size 432x288 with 1 Axes>"
      ]
     },
     "metadata": {
      "needs_background": "light"
     },
     "output_type": "display_data"
    }
   ],
   "source": [
    "x2 = born1970['Date']\n",
    "y2 = born1970['Adj Close']\n",
    "\n",
    "plt.plot(x2,y2)\n",
    "plt.show()"
   ]
  },
  {
   "cell_type": "code",
   "execution_count": 29,
   "id": "cc280348",
   "metadata": {},
   "outputs": [
    {
     "name": "stdout",
     "output_type": "stream",
     "text": [
      "Collecting cpi\n",
      "  Downloading cpi-0.1.16-py2.py3-none-any.whl (25.5 MB)\n",
      "Requirement already satisfied: requests>=2.20.0 in c:\\users\\lor_g\\appdata\\roaming\\python\\python38\\site-packages (from cpi) (2.25.1)\n",
      "Requirement already satisfied: click>=6.7 in c:\\users\\lor_g\\appdata\\roaming\\python\\python38\\site-packages (from cpi) (7.1.2)\n",
      "Requirement already satisfied: pandas>=0.23.1 in c:\\users\\lor_g\\appdata\\roaming\\python\\python38\\site-packages (from cpi) (1.2.4)\n",
      "Requirement already satisfied: python-dateutil>=2.7.3 in c:\\users\\lor_g\\appdata\\roaming\\python\\python38\\site-packages (from cpi) (2.8.1)\n",
      "Requirement already satisfied: certifi>=2017.4.17 in c:\\users\\lor_g\\appdata\\roaming\\python\\python38\\site-packages (from requests>=2.20.0->cpi) (2020.12.5)\n",
      "Requirement already satisfied: urllib3<1.27,>=1.21.1 in c:\\users\\lor_g\\appdata\\roaming\\python\\python38\\site-packages (from requests>=2.20.0->cpi) (1.26.4)\n",
      "Requirement already satisfied: idna<3,>=2.5 in c:\\users\\lor_g\\appdata\\roaming\\python\\python38\\site-packages (from requests>=2.20.0->cpi) (2.10)\n",
      "Requirement already satisfied: chardet<5,>=3.0.2 in c:\\users\\lor_g\\appdata\\roaming\\python\\python38\\site-packages (from requests>=2.20.0->cpi) (4.0.0)\n",
      "Requirement already satisfied: pytz>=2017.3 in c:\\users\\lor_g\\appdata\\roaming\\python\\python38\\site-packages (from pandas>=0.23.1->cpi) (2021.1)\n",
      "Requirement already satisfied: numpy>=1.16.5 in c:\\users\\lor_g\\anaconda3\\lib\\site-packages (from pandas>=0.23.1->cpi) (1.19.5)\n",
      "Requirement already satisfied: six>=1.5 in c:\\users\\lor_g\\appdata\\roaming\\python\\python38\\site-packages (from python-dateutil>=2.7.3->cpi) (1.15.0)\n",
      "Installing collected packages: cpi\n",
      "Successfully installed cpi-0.1.16\n",
      "Note: you may need to restart the kernel to use updated packages.\n"
     ]
    }
   ],
   "source": [
    "pip install cpi"
   ]
  },
  {
   "cell_type": "code",
   "execution_count": 30,
   "id": "05082420",
   "metadata": {},
   "outputs": [
    {
     "name": "stderr",
     "output_type": "stream",
     "text": [
      "C:\\Users\\lor_g\\anaconda3\\lib\\site-packages\\cpi\\__init__.py:46: StaleDataWarning: CPI data is out of date. To accurately inflate to today's dollars, you must run `cpi.update()`.\n",
      "  warnings.warn(StaleDataWarning())\n"
     ]
    }
   ],
   "source": [
    "import cpi"
   ]
  },
  {
   "cell_type": "code",
   "execution_count": 31,
   "id": "cf1557a3",
   "metadata": {},
   "outputs": [],
   "source": [
    "inflatie = pd.read_csv('GSPC.csv')\n",
    "inflatie['Date'] =  pd.to_datetime(inflatie['Date'], format='%Y-%m-%d')"
   ]
  },
  {
   "cell_type": "code",
   "execution_count": 32,
   "id": "8c2ed3b6",
   "metadata": {},
   "outputs": [
    {
     "data": {
      "text/html": [
       "<div>\n",
       "<style scoped>\n",
       "    .dataframe tbody tr th:only-of-type {\n",
       "        vertical-align: middle;\n",
       "    }\n",
       "\n",
       "    .dataframe tbody tr th {\n",
       "        vertical-align: top;\n",
       "    }\n",
       "\n",
       "    .dataframe thead th {\n",
       "        text-align: right;\n",
       "    }\n",
       "</style>\n",
       "<table border=\"1\" class=\"dataframe\">\n",
       "  <thead>\n",
       "    <tr style=\"text-align: right;\">\n",
       "      <th></th>\n",
       "      <th>Date</th>\n",
       "      <th>Open</th>\n",
       "      <th>High</th>\n",
       "      <th>Low</th>\n",
       "      <th>Close</th>\n",
       "      <th>Adj Close</th>\n",
       "      <th>Volume</th>\n",
       "    </tr>\n",
       "  </thead>\n",
       "  <tbody>\n",
       "    <tr>\n",
       "      <th>0</th>\n",
       "      <td>1950-01-03</td>\n",
       "      <td>16.66</td>\n",
       "      <td>16.66</td>\n",
       "      <td>16.66</td>\n",
       "      <td>16.66</td>\n",
       "      <td>16.66</td>\n",
       "      <td>1260000</td>\n",
       "    </tr>\n",
       "    <tr>\n",
       "      <th>1</th>\n",
       "      <td>1950-01-04</td>\n",
       "      <td>16.85</td>\n",
       "      <td>16.85</td>\n",
       "      <td>16.85</td>\n",
       "      <td>16.85</td>\n",
       "      <td>16.85</td>\n",
       "      <td>1890000</td>\n",
       "    </tr>\n",
       "    <tr>\n",
       "      <th>2</th>\n",
       "      <td>1950-01-05</td>\n",
       "      <td>16.93</td>\n",
       "      <td>16.93</td>\n",
       "      <td>16.93</td>\n",
       "      <td>16.93</td>\n",
       "      <td>16.93</td>\n",
       "      <td>2550000</td>\n",
       "    </tr>\n",
       "    <tr>\n",
       "      <th>3</th>\n",
       "      <td>1950-01-06</td>\n",
       "      <td>16.98</td>\n",
       "      <td>16.98</td>\n",
       "      <td>16.98</td>\n",
       "      <td>16.98</td>\n",
       "      <td>16.98</td>\n",
       "      <td>2010000</td>\n",
       "    </tr>\n",
       "    <tr>\n",
       "      <th>4</th>\n",
       "      <td>1950-01-09</td>\n",
       "      <td>17.08</td>\n",
       "      <td>17.08</td>\n",
       "      <td>17.08</td>\n",
       "      <td>17.08</td>\n",
       "      <td>17.08</td>\n",
       "      <td>2520000</td>\n",
       "    </tr>\n",
       "  </tbody>\n",
       "</table>\n",
       "</div>"
      ],
      "text/plain": [
       "        Date   Open   High    Low  Close  Adj Close   Volume\n",
       "0 1950-01-03  16.66  16.66  16.66  16.66      16.66  1260000\n",
       "1 1950-01-04  16.85  16.85  16.85  16.85      16.85  1890000\n",
       "2 1950-01-05  16.93  16.93  16.93  16.93      16.93  2550000\n",
       "3 1950-01-06  16.98  16.98  16.98  16.98      16.98  2010000\n",
       "4 1950-01-09  17.08  17.08  17.08  17.08      17.08  2520000"
      ]
     },
     "execution_count": 32,
     "metadata": {},
     "output_type": "execute_result"
    }
   ],
   "source": [
    "inflatie.head()"
   ]
  },
  {
   "cell_type": "code",
   "execution_count": 66,
   "id": "e1597cd6",
   "metadata": {},
   "outputs": [],
   "source": [
    "inflatie[\"real_dollars\"] = inflatie.apply(lambda x: cpi.inflate(x[\"Adj Close\"], x[\"Date\"]), axis=1)"
   ]
  },
  {
   "cell_type": "code",
   "execution_count": 35,
   "id": "f076e47c",
   "metadata": {},
   "outputs": [
    {
     "data": {
      "text/html": [
       "<div>\n",
       "<style scoped>\n",
       "    .dataframe tbody tr th:only-of-type {\n",
       "        vertical-align: middle;\n",
       "    }\n",
       "\n",
       "    .dataframe tbody tr th {\n",
       "        vertical-align: top;\n",
       "    }\n",
       "\n",
       "    .dataframe thead th {\n",
       "        text-align: right;\n",
       "    }\n",
       "</style>\n",
       "<table border=\"1\" class=\"dataframe\">\n",
       "  <thead>\n",
       "    <tr style=\"text-align: right;\">\n",
       "      <th></th>\n",
       "      <th>Date</th>\n",
       "      <th>Open</th>\n",
       "      <th>High</th>\n",
       "      <th>Low</th>\n",
       "      <th>Close</th>\n",
       "      <th>Adj Close</th>\n",
       "      <th>Volume</th>\n",
       "      <th>real_dollars</th>\n",
       "    </tr>\n",
       "  </thead>\n",
       "  <tbody>\n",
       "    <tr>\n",
       "      <th>0</th>\n",
       "      <td>1950-01-03</td>\n",
       "      <td>16.66</td>\n",
       "      <td>16.66</td>\n",
       "      <td>16.66</td>\n",
       "      <td>16.66</td>\n",
       "      <td>16.66</td>\n",
       "      <td>1260000</td>\n",
       "      <td>182.344054</td>\n",
       "    </tr>\n",
       "    <tr>\n",
       "      <th>1</th>\n",
       "      <td>1950-01-04</td>\n",
       "      <td>16.85</td>\n",
       "      <td>16.85</td>\n",
       "      <td>16.85</td>\n",
       "      <td>16.85</td>\n",
       "      <td>16.85</td>\n",
       "      <td>1890000</td>\n",
       "      <td>184.423609</td>\n",
       "    </tr>\n",
       "    <tr>\n",
       "      <th>2</th>\n",
       "      <td>1950-01-05</td>\n",
       "      <td>16.93</td>\n",
       "      <td>16.93</td>\n",
       "      <td>16.93</td>\n",
       "      <td>16.93</td>\n",
       "      <td>16.93</td>\n",
       "      <td>2550000</td>\n",
       "      <td>185.299210</td>\n",
       "    </tr>\n",
       "    <tr>\n",
       "      <th>3</th>\n",
       "      <td>1950-01-06</td>\n",
       "      <td>16.98</td>\n",
       "      <td>16.98</td>\n",
       "      <td>16.98</td>\n",
       "      <td>16.98</td>\n",
       "      <td>16.98</td>\n",
       "      <td>2010000</td>\n",
       "      <td>185.846461</td>\n",
       "    </tr>\n",
       "    <tr>\n",
       "      <th>4</th>\n",
       "      <td>1950-01-09</td>\n",
       "      <td>17.08</td>\n",
       "      <td>17.08</td>\n",
       "      <td>17.08</td>\n",
       "      <td>17.08</td>\n",
       "      <td>17.08</td>\n",
       "      <td>2520000</td>\n",
       "      <td>186.940963</td>\n",
       "    </tr>\n",
       "  </tbody>\n",
       "</table>\n",
       "</div>"
      ],
      "text/plain": [
       "        Date   Open   High    Low  Close  Adj Close   Volume  real_dollars\n",
       "0 1950-01-03  16.66  16.66  16.66  16.66      16.66  1260000    182.344054\n",
       "1 1950-01-04  16.85  16.85  16.85  16.85      16.85  1890000    184.423609\n",
       "2 1950-01-05  16.93  16.93  16.93  16.93      16.93  2550000    185.299210\n",
       "3 1950-01-06  16.98  16.98  16.98  16.98      16.98  2010000    185.846461\n",
       "4 1950-01-09  17.08  17.08  17.08  17.08      17.08  2520000    186.940963"
      ]
     },
     "execution_count": 35,
     "metadata": {},
     "output_type": "execute_result"
    }
   ],
   "source": [
    "inflatie.head()"
   ]
  },
  {
   "cell_type": "code",
   "execution_count": 51,
   "id": "160d6229",
   "metadata": {},
   "outputs": [],
   "source": [
    "start_date1950 = '1963-01-03'\n",
    "end_date1950 = '1993-01-04'"
   ]
  },
  {
   "cell_type": "code",
   "execution_count": 52,
   "id": "1a48da0a",
   "metadata": {},
   "outputs": [],
   "source": [
    "mask = (inflatie['Date'] > start_date1950) & (inflatie['Date'] <= end_date1950)\n",
    "born1950_i = inflatie.loc[mask]"
   ]
  },
  {
   "cell_type": "code",
   "execution_count": 59,
   "id": "0addc043",
   "metadata": {},
   "outputs": [
    {
     "data": {
      "image/png": "[encoded data removed]",
      "text/plain": [
       "<Figure size 432x288 with 1 Axes>"
      ]
     },
     "metadata": {
      "needs_background": "light"
     },
     "output_type": "display_data"
    }
   ],
   "source": [
    "x3 = born1950_i['Date']\n",
    "y3 = born1950_i['real_dollars']/born1950_i['real_dollars'].iloc[0]\n",
    "\n",
    "plt.plot(x3,y3)\n",
    "plt.show()"
   ]
  },
  {
   "cell_type": "code",
   "execution_count": 95,
   "id": "e1cc47f8",
   "metadata": {},
   "outputs": [],
   "source": [
    "start_date1970 = '1983-01-03'\n",
    "end_date1970 = '2012-12-05'\n",
    "mask = (inflatie['Date'] > start_date1970) & (inflatie['Date'] <= end_date1970)\n",
    "born1970_i = inflatie.loc[mask]"
   ]
  },
  {
   "cell_type": "code",
   "execution_count": 85,
   "id": "513efb91",
   "metadata": {},
   "outputs": [
    {
     "data": {
      "image/png": "[encoded data removed]",
      "text/plain": [
       "<Figure size 432x288 with 1 Axes>"
      ]
     },
     "metadata": {
      "needs_background": "light"
     },
     "output_type": "display_data"
    }
   ],
   "source": [
    "x4 = born1970_i['Date']\n",
    "y4 = born1970_i['real_dollars']/born1970_i['real_dollars'].iloc[0]\n",
    "\n",
    "plt.plot(x4,y4)\n",
    "plt.show()"
   ]
  },
  {
   "cell_type": "code",
   "execution_count": 86,
   "id": "d1139ef3",
   "metadata": {},
   "outputs": [
    {
     "data": {
      "text/plain": [
       "542.5904035650001"
      ]
     },
     "execution_count": 86,
     "metadata": {},
     "output_type": "execute_result"
    }
   ],
   "source": [
    "born1950_i['real_dollars'].iloc[0]"
   ]
  },
  {
   "cell_type": "code",
   "execution_count": 96,
   "id": "a6ba6f53",
   "metadata": {},
   "outputs": [
    {
     "data": {
      "text/plain": [
       "(7548, 8)"
      ]
     },
     "execution_count": 96,
     "metadata": {},
     "output_type": "execute_result"
    }
   ],
   "source": [
    "born1970_i.shape"
   ]
  },
  {
   "cell_type": "code",
   "execution_count": 93,
   "id": "d3705949",
   "metadata": {},
   "outputs": [
    {
     "data": {
      "text/plain": [
       "(7548, 8)"
      ]
     },
     "execution_count": 93,
     "metadata": {},
     "output_type": "execute_result"
    }
   ],
   "source": [
    "born1950_i.shape"
   ]
  },
  {
   "cell_type": "code",
   "execution_count": 129,
   "id": "b6e56608",
   "metadata": {},
   "outputs": [
    {
     "data": {
      "image/png": "[encoded data removed]",
      "text/plain": [
       "<Figure size 432x288 with 1 Axes>"
      ]
     },
     "metadata": {
      "needs_background": "light"
     },
     "output_type": "display_data"
    }
   ],
   "source": [
    "plt.plot(x3,y3, label='1950')\n",
    "plt.plot(x4,y4, label='1970')\n",
    "plt.legend()\n",
    "plt.grid(axis='y')\n",
    "txt=\"Bron: devrijestier.nl (2021)\"\n",
    "plt.figtext(0.5, 0.01, txt, wrap=True, horizontalalignment='center', fontsize=11)\n",
    "plt.savefig('myima.png', format='png', dpi=600)\n",
    "plt.show()"
   ]
  },
  {
   "cell_type": "code",
   "execution_count": 114,
   "id": "8f19b254",
   "metadata": {},
   "outputs": [],
   "source": [
    "df = pd.DataFrame()"
   ]
  },
  {
   "cell_type": "code",
   "execution_count": 120,
   "id": "85fad74a",
   "metadata": {},
   "outputs": [
    {
     "data": {
      "text/plain": [
       "<AxesSubplot:>"
      ]
     },
     "execution_count": 120,
     "metadata": {},
     "output_type": "execute_result"
    },
    {
     "data": {
      "image/png": "[encoded data removed]",
      "text/plain": [
       "<Figure size 432x288 with 1 Axes>"
      ]
     },
     "metadata": {
      "needs_background": "light"
     },
     "output_type": "display_data"
    }
   ],
   "source": [
    "df['1950'] = y3\n",
    "df['1970'] = y4\n",
    "df.plot()"
   ]
  },
  {
   "cell_type": "code",
   "execution_count": null,
   "id": "c5502b00",
   "metadata": {},
   "outputs": [],
   "source": []
  }
 ],
 "metadata": {
  "kernelspec": {
   "display_name": "Python 3",
   "language": "python",
   "name": "python3"
  },
  "language_info": {
   "codemirror_mode": {
    "name": "ipython",
    "version": 3
   },
   "file_extension": ".py",
   "mimetype": "text/x-python",
   "name": "python",
   "nbconvert_exporter": "python",
   "pygments_lexer": "ipython3",
   "version": "3.8.5"
  }
 },
 "nbformat": 4,
 "nbformat_minor": 5
}
