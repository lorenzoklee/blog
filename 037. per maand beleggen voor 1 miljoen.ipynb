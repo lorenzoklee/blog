{
 "cells": [
  {
   "cell_type": "markdown",
   "id": "fdec14c3",
   "metadata": {},
   "source": [
    "### Hoeveel moet je per maand beleggen om op je 65e 1 miljoen euro te hebben?\n",
    "Antwoord wordt bekeken van de onderstaande groepen\n",
    "- 20 jarigen\n",
    "- 30 jarigen\n",
    "- 40 jarigen\n",
    "- 50 jarigen\n",
    "- 60 jarigen"
   ]
  },
  {
   "cell_type": "markdown",
   "id": "a33dcd45",
   "metadata": {},
   "source": [
    "#### aannames\n",
    "- groeifactor van 6%\n",
    "- startbedrag = 1e inleg"
   ]
  },
  {
   "cell_type": "code",
   "execution_count": 8,
   "id": "7baeb4ad",
   "metadata": {},
   "outputs": [
    {
     "name": "stdout",
     "output_type": "stream",
     "text": [
      "Hoe oud ben je? \n"
     ]
    },
    {
     "ename": "ValueError",
     "evalue": "invalid literal for int() with base 10: ''",
     "output_type": "error",
     "traceback": [
      "\u001b[1;31m---------------------------------------------------------------------------\u001b[0m",
      "\u001b[1;31mValueError\u001b[0m                                Traceback (most recent call last)",
      "\u001b[1;32m<ipython-input-8-87fae984948f>\u001b[0m in \u001b[0;36m<module>\u001b[1;34m\u001b[0m\n\u001b[0;32m     13\u001b[0m \u001b[1;33m\u001b[0m\u001b[0m\n\u001b[0;32m     14\u001b[0m \u001b[1;33m\u001b[0m\u001b[0m\n\u001b[1;32m---> 15\u001b[1;33m \u001b[0mA\u001b[0m \u001b[1;33m=\u001b[0m \u001b[0mint\u001b[0m\u001b[1;33m(\u001b[0m\u001b[0minput\u001b[0m\u001b[1;33m(\u001b[0m\u001b[1;34m\"Hoe oud ben je? \"\u001b[0m\u001b[1;33m)\u001b[0m\u001b[1;33m)\u001b[0m\u001b[1;33m\u001b[0m\u001b[1;33m\u001b[0m\u001b[0m\n\u001b[0m\u001b[0;32m     16\u001b[0m \u001b[0mB\u001b[0m \u001b[1;33m=\u001b[0m \u001b[0mint\u001b[0m\u001b[1;33m(\u001b[0m\u001b[0minput\u001b[0m\u001b[1;33m(\u001b[0m\u001b[1;34m\"Hoeveel wil je met pensioen \"\u001b[0m\u001b[1;33m)\u001b[0m\u001b[1;33m)\u001b[0m\u001b[1;33m\u001b[0m\u001b[1;33m\u001b[0m\u001b[0m\n\u001b[0;32m     17\u001b[0m \u001b[0minlegBerekenen\u001b[0m\u001b[1;33m(\u001b[0m\u001b[0mA\u001b[0m\u001b[1;33m,\u001b[0m\u001b[0mB\u001b[0m\u001b[1;33m)\u001b[0m\u001b[1;33m\u001b[0m\u001b[1;33m\u001b[0m\u001b[0m\n",
      "\u001b[1;31mValueError\u001b[0m: invalid literal for int() with base 10: ''"
     ]
    }
   ],
   "source": [
    "def inlegBerekenen(leeftijd, stop):\n",
    "    t = 65 - leeftijd\n",
    "    for inleg_maand in range(1,6000):\n",
    "        inleg_jaar = inleg_maand*12\n",
    "        totale_inv = []\n",
    "        for i in range(0,t+1):\n",
    "            if i == 0:\n",
    "                totale_inv.append(inleg_jaar)\n",
    "            else:\n",
    "                totale_inv.append((totale_inv[i-1])*1.06+inleg_jaar)\n",
    "                if totale_inv[i] > stop:\n",
    "                    return inleg_maand\n",
    "\n",
    "\n",
    "A = int(input(\"Hoe oud ben je? \"))\n",
    "B = int(input(\"Hoeveel wil je met pensioen \"))\n",
    "inlegBerekenen(A,B)\n",
    "    \n",
    "    "
   ]
  },
  {
   "cell_type": "code",
   "execution_count": 9,
   "id": "7d4690e7",
   "metadata": {},
   "outputs": [
    {
     "name": "stdout",
     "output_type": "stream",
     "text": [
      "184\n",
      "253\n",
      "350\n",
      "492\n",
      "705\n",
      "1042\n",
      "1624\n",
      "2784\n"
     ]
    }
   ],
   "source": [
    "leeftijden = [20,25,30,35,40,45,50,55]\n",
    "for leeftijd in leeftijden:\n",
    "    print(inlegBerekenen(leeftijd,500000))"
   ]
  },
  {
   "cell_type": "code",
   "execution_count": 10,
   "id": "c272d6ee",
   "metadata": {},
   "outputs": [],
   "source": [
    "import pandas as pd"
   ]
  },
  {
   "cell_type": "code",
   "execution_count": 11,
   "id": "482f962b",
   "metadata": {},
   "outputs": [
    {
     "data": {
      "text/html": [
       "<div>\n",
       "<style scoped>\n",
       "    .dataframe tbody tr th:only-of-type {\n",
       "        vertical-align: middle;\n",
       "    }\n",
       "\n",
       "    .dataframe tbody tr th {\n",
       "        vertical-align: top;\n",
       "    }\n",
       "\n",
       "    .dataframe thead th {\n",
       "        text-align: right;\n",
       "    }\n",
       "</style>\n",
       "<table border=\"1\" class=\"dataframe\">\n",
       "  <thead>\n",
       "    <tr style=\"text-align: right;\">\n",
       "      <th></th>\n",
       "      <th>Start Leeftijd</th>\n",
       "      <th>€500.000</th>\n",
       "      <th>€750.000</th>\n",
       "      <th>€1.000.000</th>\n",
       "    </tr>\n",
       "  </thead>\n",
       "  <tbody>\n",
       "    <tr>\n",
       "      <th>0</th>\n",
       "      <td>20</td>\n",
       "      <td>184</td>\n",
       "      <td>276</td>\n",
       "      <td>368</td>\n",
       "    </tr>\n",
       "    <tr>\n",
       "      <th>1</th>\n",
       "      <td>25</td>\n",
       "      <td>253</td>\n",
       "      <td>379</td>\n",
       "      <td>505</td>\n",
       "    </tr>\n",
       "    <tr>\n",
       "      <th>2</th>\n",
       "      <td>30</td>\n",
       "      <td>350</td>\n",
       "      <td>525</td>\n",
       "      <td>700</td>\n",
       "    </tr>\n",
       "    <tr>\n",
       "      <th>3</th>\n",
       "      <td>35</td>\n",
       "      <td>492</td>\n",
       "      <td>738</td>\n",
       "      <td>983</td>\n",
       "    </tr>\n",
       "    <tr>\n",
       "      <th>4</th>\n",
       "      <td>40</td>\n",
       "      <td>705</td>\n",
       "      <td>1057</td>\n",
       "      <td>1409</td>\n",
       "    </tr>\n",
       "    <tr>\n",
       "      <th>5</th>\n",
       "      <td>45</td>\n",
       "      <td>1042</td>\n",
       "      <td>1563</td>\n",
       "      <td>2084</td>\n",
       "    </tr>\n",
       "    <tr>\n",
       "      <th>6</th>\n",
       "      <td>50</td>\n",
       "      <td>1624</td>\n",
       "      <td>2435</td>\n",
       "      <td>3247</td>\n",
       "    </tr>\n",
       "    <tr>\n",
       "      <th>7</th>\n",
       "      <td>55</td>\n",
       "      <td>2784</td>\n",
       "      <td>4175</td>\n",
       "      <td>5567</td>\n",
       "    </tr>\n",
       "  </tbody>\n",
       "</table>\n",
       "</div>"
      ],
      "text/plain": [
       "   Start Leeftijd  €500.000  €750.000  €1.000.000\n",
       "0              20       184       276         368\n",
       "1              25       253       379         505\n",
       "2              30       350       525         700\n",
       "3              35       492       738         983\n",
       "4              40       705      1057        1409\n",
       "5              45      1042      1563        2084\n",
       "6              50      1624      2435        3247\n",
       "7              55      2784      4175        5567"
      ]
     },
     "execution_count": 11,
     "metadata": {},
     "output_type": "execute_result"
    }
   ],
   "source": [
    "df = pd.DataFrame()\n",
    "df['Start Leeftijd'] = leeftijden\n",
    "df['€500.000'] = df['Start Leeftijd'].apply(lambda x: inlegBerekenen(x,500000))\n",
    "df['€750.000'] = df['Start Leeftijd'].apply(lambda x: inlegBerekenen(x,750000))\n",
    "df['€1.000.000'] = df['Start Leeftijd'].apply(lambda x: inlegBerekenen(x,1000000))\n",
    "\n",
    "df"
   ]
  },
  {
   "cell_type": "code",
   "execution_count": 92,
   "id": "66bf8cab",
   "metadata": {},
   "outputs": [],
   "source": [
    "import matplotlib.pyplot as plt"
   ]
  },
  {
   "cell_type": "code",
   "execution_count": null,
   "id": "ba779e72",
   "metadata": {},
   "outputs": [],
   "source": [
    "plt.bar"
   ]
  }
 ],
 "metadata": {
  "kernelspec": {
   "display_name": "Python 3",
   "language": "python",
   "name": "python3"
  },
  "language_info": {
   "codemirror_mode": {
    "name": "ipython",
    "version": 3
   },
   "file_extension": ".py",
   "mimetype": "text/x-python",
   "name": "python",
   "nbconvert_exporter": "python",
   "pygments_lexer": "ipython3",
   "version": "3.8.5"
  }
 },
 "nbformat": 4,
 "nbformat_minor": 5
}
