{
 "cells": [
  {
   "cell_type": "code",
   "execution_count": 14,
   "id": "95a60a86",
   "metadata": {},
   "outputs": [],
   "source": [
    "import pandas as pd\n",
    "import math"
   ]
  },
  {
   "cell_type": "code",
   "execution_count": 15,
   "id": "e2770f4f",
   "metadata": {},
   "outputs": [],
   "source": [
    "gem = 15                    # 15% return, the signal\n",
    "sd = 10                     # 10% error rate per annum, the standard deviation of the noise\n",
    "dagen = 260                 # number of trading days per year\n",
    "uren = 8                    # number of trading hours per day\n",
    "tijd = [1, 4, 12, dagen, dagen*uren, dagen*uren*60, dagen*uren*3600]\n",
    "frequentie = ['jaar', 'kwartaal', 'maand', 'dag', 'uur', 'minuten', 'seconden']"
   ]
  },
  {
   "cell_type": "code",
   "execution_count": 20,
   "id": "b148bdb6",
   "metadata": {},
   "outputs": [
    {
     "name": "stdout",
     "output_type": "stream",
     "text": [
      "[15.0, 3.75, 1.25, 0.057692, 0.007212, 0.00012, 2e-06]\n"
     ]
    }
   ],
   "source": [
    "signaal = []\n",
    "for x in tijd:\n",
    "    y = gem/x\n",
    "    signaal.append(round(y,6))\n",
    "print(signaal)"
   ]
  },
  {
   "cell_type": "code",
   "execution_count": 21,
   "id": "eb8cd154",
   "metadata": {},
   "outputs": [
    {
     "name": "stdout",
     "output_type": "stream",
     "text": [
      "[10.0, 5.0, 2.8868, 0.6202, 0.2193, 0.0283, 0.0037]\n"
     ]
    }
   ],
   "source": [
    "ruis = []\n",
    "for x in tijd:\n",
    "    n = sd/(x**0.5)\n",
    "    ruis.append(round(n,4))\n",
    "print(ruis)"
   ]
  },
  {
   "cell_type": "code",
   "execution_count": 23,
   "id": "855bbf73",
   "metadata": {},
   "outputs": [
    {
     "name": "stdout",
     "output_type": "stream",
     "text": [
      "[0.67, 1.33, 2.31, 10.75, 30.41, 235.83, 1850.0]\n"
     ]
    }
   ],
   "source": [
    "ruis_per_signaal = []\n",
    "for num1, num2 in zip(ruis, signaal):\n",
    "    rps = num1/num2\n",
    "    ruis_per_signaal.append(round(rps,2))\n",
    "print(ruis_per_signaal)"
   ]
  },
  {
   "cell_type": "code",
   "execution_count": 27,
   "id": "1fb82465",
   "metadata": {},
   "outputs": [
    {
     "data": {
      "text/html": [
       "<div>\n",
       "<style scoped>\n",
       "    .dataframe tbody tr th:only-of-type {\n",
       "        vertical-align: middle;\n",
       "    }\n",
       "\n",
       "    .dataframe tbody tr th {\n",
       "        vertical-align: top;\n",
       "    }\n",
       "\n",
       "    .dataframe thead th {\n",
       "        text-align: right;\n",
       "    }\n",
       "</style>\n",
       "<table border=\"1\" class=\"dataframe\">\n",
       "  <thead>\n",
       "    <tr style=\"text-align: right;\">\n",
       "      <th></th>\n",
       "      <th>frequentie</th>\n",
       "      <th>tijd</th>\n",
       "      <th>signaal</th>\n",
       "      <th>ruis</th>\n",
       "      <th>ruis per signaal</th>\n",
       "    </tr>\n",
       "  </thead>\n",
       "  <tbody>\n",
       "    <tr>\n",
       "      <th>0</th>\n",
       "      <td>jaar</td>\n",
       "      <td>1</td>\n",
       "      <td>15.000000</td>\n",
       "      <td>10.0000</td>\n",
       "      <td>0.67</td>\n",
       "    </tr>\n",
       "    <tr>\n",
       "      <th>1</th>\n",
       "      <td>kwartaal</td>\n",
       "      <td>4</td>\n",
       "      <td>3.750000</td>\n",
       "      <td>5.0000</td>\n",
       "      <td>1.33</td>\n",
       "    </tr>\n",
       "    <tr>\n",
       "      <th>2</th>\n",
       "      <td>maand</td>\n",
       "      <td>12</td>\n",
       "      <td>1.250000</td>\n",
       "      <td>2.8868</td>\n",
       "      <td>2.31</td>\n",
       "    </tr>\n",
       "    <tr>\n",
       "      <th>3</th>\n",
       "      <td>dag</td>\n",
       "      <td>260</td>\n",
       "      <td>0.057692</td>\n",
       "      <td>0.6202</td>\n",
       "      <td>10.75</td>\n",
       "    </tr>\n",
       "    <tr>\n",
       "      <th>4</th>\n",
       "      <td>uur</td>\n",
       "      <td>2080</td>\n",
       "      <td>0.007212</td>\n",
       "      <td>0.2193</td>\n",
       "      <td>30.41</td>\n",
       "    </tr>\n",
       "    <tr>\n",
       "      <th>5</th>\n",
       "      <td>minuten</td>\n",
       "      <td>124800</td>\n",
       "      <td>0.000120</td>\n",
       "      <td>0.0283</td>\n",
       "      <td>235.83</td>\n",
       "    </tr>\n",
       "    <tr>\n",
       "      <th>6</th>\n",
       "      <td>seconden</td>\n",
       "      <td>7488000</td>\n",
       "      <td>0.000002</td>\n",
       "      <td>0.0037</td>\n",
       "      <td>1850.00</td>\n",
       "    </tr>\n",
       "  </tbody>\n",
       "</table>\n",
       "</div>"
      ],
      "text/plain": [
       "  frequentie     tijd    signaal     ruis  ruis per signaal\n",
       "0       jaar        1  15.000000  10.0000              0.67\n",
       "1   kwartaal        4   3.750000   5.0000              1.33\n",
       "2      maand       12   1.250000   2.8868              2.31\n",
       "3        dag      260   0.057692   0.6202             10.75\n",
       "4        uur     2080   0.007212   0.2193             30.41\n",
       "5    minuten   124800   0.000120   0.0283            235.83\n",
       "6   seconden  7488000   0.000002   0.0037           1850.00"
      ]
     },
     "execution_count": 27,
     "metadata": {},
     "output_type": "execute_result"
    }
   ],
   "source": [
    "df = pd.DataFrame(\n",
    "    {'frequentie': frequentie,\n",
    "     'tijd': tijd,\n",
    "     'signaal': signaal,\n",
    "     'ruis': ruis,\n",
    "     'ruis per signaal': ruis_per_signaal\n",
    "    })\n",
    "df.set_index('frequentie')\n",
    "df"
   ]
  },
  {
   "cell_type": "code",
   "execution_count": null,
   "id": "f3e5a03b",
   "metadata": {},
   "outputs": [],
   "source": []
  }
 ],
 "metadata": {
  "kernelspec": {
   "display_name": "Python 3",
   "language": "python",
   "name": "python3"
  },
  "language_info": {
   "codemirror_mode": {
    "name": "ipython",
    "version": 3
   },
   "file_extension": ".py",
   "mimetype": "text/x-python",
   "name": "python",
   "nbconvert_exporter": "python",
   "pygments_lexer": "ipython3",
   "version": "3.8.5"
  }
 },
 "nbformat": 4,
 "nbformat_minor": 5
}
